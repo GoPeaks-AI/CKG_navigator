{
 "cells": [
  {
   "cell_type": "code",
   "execution_count": 4,
   "metadata": {},
   "outputs": [],
   "source": [
    "!pip install --upgrade py2neo\n",
    "!pip install --upgrade neo4j\n",
    "!pip install --upgrade ipython-cypher\n",
    "!pip install networkx\n",
    "!pip install python-igraph\n",
    "!pip install plotly\n",
    "!pip install pandas\n",
    "!pip install --upgrade matplotlib\n",
    "!pip install jgraph\n",
    "!pip install neo4jupyter\n",
    "from py2neo import Graph,Node,Relationship\n",
    "from neo4j import GraphDatabase\n",
    "import logging\n",
    "from neo4j.exceptions import ServiceUnavailable\n",
    "\n",
    "uri = \"neo4j+s://********.databases.neo4j.io:****\"\n",
    "user = \"neo4j\"\n",
    "pwd = \"******************************************\"\n",
    "graph = Graph(uri, auth=(user, pwd))\n",
    "\n",
    "def run_query_short(purpose, defineX, defineY):\n",
    "    if purpose == 'confounder':\n",
    "        query = \"MATCH p= (x:construct)<-[r1:causes]-(confounder:construct) -[r2:causes]-> (y:construct) <-[r3:causes]- (x:construct) \\\n",
    "        WHERE x.name ='\"+str(defineX)+\"' AND y.name ='\"+str(defineY)+\"' \\\n",
    "        RETURN x.measure, y.measure, confounder.measure\"\n",
    "        return graph.run(query)\n",
    "    elif purpose == 'IV':\n",
    "        query = \"MATCH p1= (IV:construct)-[r1:causes]->(x:construct)-[r2: causes]->(y:construct) \\\n",
    "        WHERE x.name='\"+str(defineX)+\"' AND y.name='\"+str(defineY)+\"' \\\n",
    "        AND NOT EXISTS {(IV:construct)-[]->(y:construct)} \\\n",
    "        RETURN IV.measure, x.measure, y.measure\"\n",
    "        return graph.run(query)\n",
    "    else:\n",
    "        return print(\"You should correctly specify your query inputs.\")\n",
    "\n",
    "def run_query_full(purpose, defineX, defineY):\n",
    "    if purpose == 'confounder':\n",
    "        query = \"MATCH p= (x:construct)<-[r1:causes]-(confounder:construct) -[r2:causes]-> (y:construct) <-[r3:causes]- (x:construct) \\\n",
    "        WHERE x.name ='\"+str(defineX)+\"' AND y.name ='\"+str(defineY)+\"' \\\n",
    "        RETURN x.measure, y.measure, confounder.measure, r3.Curators, r3.SampleSize, r3.SampleCountries, r3.SampleIndustries, \\\n",
    "        r3.Reference, r3.PublicationTitle, r3.Theory, r3.Direction, r3.Moderator\"\n",
    "        return graph.run(query)\n",
    "    elif purpose == 'IV':\n",
    "        query = \"MATCH p1= (IV:construct)-[r1:causes]->(x:construct)-[r3:causes]->(y:construct) \\\n",
    "        WHERE x.name='\"+str(defineX)+\"' AND y.name='\"+str(defineY)+\"' \\\n",
    "        AND NOT EXISTS {(IV:construct)-[]->(y:construct)} \\\n",
    "        RETURN IV.measure, x.measure, y.measure, r3.Curators, r3.SampleSize, r3.SampleCountries, r3.SampleIndustries, \\\n",
    "        r3.Reference, r3.PublicationTitle, r3.Theory, r3.Direction, r3.Moderator\"\n",
    "        return graph.run(query)\n",
    "    else:\n",
    "        return print(\"You should correctly specify your query inputs.\")\n",
    "\n",
    "def run_query(purpose, defineX, defineY, report):\n",
    "    if report == \"short\":\n",
    "        return run_query_short(purpose, defineX, defineY)\n",
    "    elif report == \"full\":\n",
    "        return run_query_full(purpose, defineX, defineY)\n",
    "    else:\n",
    "        return print(\"You should correctly specify your query reporting format [short/full].\")"
   ]
  },
  {
   "cell_type": "code",
   "execution_count": 5,
   "metadata": {},
   "outputs": [
    {
     "data": {
      "text/html": [
       "<table><tr><th>x.measure</th><th>y.measure</th><th>confounder.measure</th><th>r3.Curators</th><th>r3.SampleSize</th><th>r3.SampleCountries</th><th>r3.SampleIndustries</th><th>r3.Reference</th><th>r3.PublicationTitle</th><th>r3.Theory</th><th>r3.Direction</th><th>r3.Moderator</th></tr><tr><td style=\"text-align:left\">internal pay ratio</td><td style=\"text-align:left\">absenteeism</td><td style=\"text-align:left\">external pay ratio</td><td style=\"text-align:left\">Victor Chen, Meng Zhong, Wendy Long, Rosalyn Sandoval</td><td style=\"text-align:left\">1462</td><td style=\"text-align:left\">Italy</td><td style=\"text-align:left\">Manufacturing and Service</td><td style=\"text-align:left\">TPS15HR</td><td style=\"text-align:left\">Human Relations</td><td style=\"text-align:left\">Equity theory </td><td style=\"text-align:left\">Unclear</td><td style=\"text-align:left\">performance-related pay policies</td></tr><tr><td style=\"text-align:left\">internal pay ratio</td><td style=\"text-align:left\">absenteeism</td><td style=\"text-align:left\">external pay ratio</td><td style=\"text-align:left\">Victor Chen, Meng Zhong, Wendy Long, Rosalyn Sandoval</td><td style=\"text-align:left\">1462</td><td style=\"text-align:left\">Italy</td><td style=\"text-align:left\">Manufacturing and Service</td><td style=\"text-align:left\">TPS15HR</td><td style=\"text-align:left\">Human Relations</td><td style=\"text-align:left\">Equity theory </td><td style=\"text-align:left\">Unclear</td><td style=\"text-align:left\">performance-related pay policies</td></tr><tr><td style=\"text-align:left\">internal pay ratio</td><td style=\"text-align:left\">absenteeism</td><td style=\"text-align:left\">external pay ratio</td><td style=\"text-align:left\">Victor Chen, Meng Zhong, Wendy Long, Rosalyn Sandoval</td><td style=\"text-align:left\">1462</td><td style=\"text-align:left\">Italy</td><td style=\"text-align:left\">Manufacturing and Service</td><td style=\"text-align:left\">TPS15HR</td><td style=\"text-align:left\">Human Relations</td><td style=\"text-align:left\">Equity theory </td><td style=\"text-align:left\">Unclear</td><td style=\"text-align:left\">performance-related pay policies</td></tr></table>"
      ],
      "text/plain": [
       " x.measure          | y.measure   | confounder.measure | r3.Curators                                           | r3.SampleSize | r3.SampleCountries | r3.SampleIndustries       | r3.Reference | r3.PublicationTitle | r3.Theory      | r3.Direction | r3.Moderator                     \n",
       "--------------------|-------------|--------------------|-------------------------------------------------------|---------------|--------------------|---------------------------|--------------|---------------------|----------------|--------------|----------------------------------\n",
       " internal pay ratio | absenteeism | external pay ratio | Victor Chen, Meng Zhong, Wendy Long, Rosalyn Sandoval | 1462          | Italy              | Manufacturing and Service | TPS15HR      | Human Relations     | Equity theory  | Unclear      | performance-related pay policies \n",
       " internal pay ratio | absenteeism | external pay ratio | Victor Chen, Meng Zhong, Wendy Long, Rosalyn Sandoval | 1462          | Italy              | Manufacturing and Service | TPS15HR      | Human Relations     | Equity theory  | Unclear      | performance-related pay policies \n",
       " internal pay ratio | absenteeism | external pay ratio | Victor Chen, Meng Zhong, Wendy Long, Rosalyn Sandoval | 1462          | Italy              | Manufacturing and Service | TPS15HR      | Human Relations     | Equity theory  | Unclear      | performance-related pay policies "
      ]
     },
     "execution_count": 5,
     "metadata": {},
     "output_type": "execute_result"
    }
   ],
   "source": [
    "# Determine if a variable X is endogeneous for variable Y, if so, return confounders\n",
    "\n",
    "purpose = 'confounder' # write 'confounder' or 'IV' to launch the search\n",
    "defineX = 'economic reward' # write the name of the construct X\n",
    "defineY = 'job performance' # write the name of construct Y\n",
    "report ='full' # write 'short' or 'full' for the report format\n",
    "run_query(purpose, defineX, defineY, report)"
   ]
  },
  {
   "cell_type": "code",
   "execution_count": 6,
   "metadata": {},
   "outputs": [
    {
     "data": {
      "text/html": [
       "<table><tr><th>IV.measure</th><th>x.measure</th><th>y.measure</th><th>r3.Curators</th><th>r3.SampleSize</th><th>r3.SampleCountries</th><th>r3.SampleIndustries</th><th>r3.Reference</th><th>r3.PublicationTitle</th><th>r3.Theory</th><th>r3.Direction</th><th>r3.Moderator</th></tr><tr><td style=\"text-align:left\">mwork</td><td style=\"text-align:left\">turnover intentions</td><td style=\"text-align:left\">incidence of ocbs</td><td style=\"text-align:left\">Victor Chen, Meng Zhong, Wendy Long, Rosalyn Sandoval</td><td style=\"text-align:left\">60</td><td style=\"text-align:left\">China, United States</td><td style=\"text-align:left\">Drug Retailing and Telecommunication</td><td style=\"text-align:left\">MECP16JAP</td><td style=\"text-align:left\">Journal of Applied Psychology</td><td style=\"text-align:left\">Expectancy theory </td><td style=\"text-align:left\">Unclear</td><td style=\"text-align:left\">N/A</td></tr><tr><td style=\"text-align:left\">organizational embeddedness</td><td style=\"text-align:left\">turnover intentions</td><td style=\"text-align:left\">incidence of ocbs</td><td style=\"text-align:left\">Victor Chen, Meng Zhong, Wendy Long, Rosalyn Sandoval</td><td style=\"text-align:left\">60</td><td style=\"text-align:left\">China, United States</td><td style=\"text-align:left\">Drug Retailing and Telecommunication</td><td style=\"text-align:left\">MECP16JAP</td><td style=\"text-align:left\">Journal of Applied Psychology</td><td style=\"text-align:left\">Expectancy theory </td><td style=\"text-align:left\">Unclear</td><td style=\"text-align:left\">N/A</td></tr><tr><td style=\"text-align:left\">mwork</td><td style=\"text-align:left\">turnover intentions</td><td style=\"text-align:left\">incidence of ocbs</td><td style=\"text-align:left\">Victor Chen, Meng Zhong, Wendy Long, Rosalyn Sandoval</td><td style=\"text-align:left\">60</td><td style=\"text-align:left\">China, United States</td><td style=\"text-align:left\">Drug Retailing and Telecommunication</td><td style=\"text-align:left\">MECP16JAP</td><td style=\"text-align:left\">Journal of Applied Psychology</td><td style=\"text-align:left\">Expectancy theory </td><td style=\"text-align:left\">Unclear</td><td style=\"text-align:left\">N/A</td></tr></table>"
      ],
      "text/plain": [
       " IV.measure                  | x.measure           | y.measure         | r3.Curators                                           | r3.SampleSize | r3.SampleCountries   | r3.SampleIndustries                  | r3.Reference | r3.PublicationTitle           | r3.Theory          | r3.Direction | r3.Moderator \n",
       "-----------------------------|---------------------|-------------------|-------------------------------------------------------|---------------|----------------------|--------------------------------------|--------------|-------------------------------|--------------------|--------------|--------------\n",
       " mwork                       | turnover intentions | incidence of ocbs | Victor Chen, Meng Zhong, Wendy Long, Rosalyn Sandoval | 60            | China, United States | Drug Retailing and Telecommunication | MECP16JAP    | Journal of Applied Psychology | Expectancy theory  | Unclear      | N/A          \n",
       " organizational embeddedness | turnover intentions | incidence of ocbs | Victor Chen, Meng Zhong, Wendy Long, Rosalyn Sandoval | 60            | China, United States | Drug Retailing and Telecommunication | MECP16JAP    | Journal of Applied Psychology | Expectancy theory  | Unclear      | N/A          \n",
       " mwork                       | turnover intentions | incidence of ocbs | Victor Chen, Meng Zhong, Wendy Long, Rosalyn Sandoval | 60            | China, United States | Drug Retailing and Telecommunication | MECP16JAP    | Journal of Applied Psychology | Expectancy theory  | Unclear      | N/A          "
      ]
     },
     "execution_count": 6,
     "metadata": {},
     "output_type": "execute_result"
    }
   ],
   "source": [
    "# Return an instrumental variable (IV) for an independent variable x, given dependent variable y\n",
    "\n",
    "purpose = 'IV' # write 'confounder' or 'IV' to launch the search\n",
    "defineX = 'turnover' # write the name of the construct X\n",
    "defineY = 'job performance' # write the name of construct Y\n",
    "report = 'full' # write 'short' or 'full' for the report format\n",
    "run_query(purpose, defineX, defineY, report)"
   ]
  },
  {
   "cell_type": "code",
   "execution_count": null,
   "metadata": {},
   "outputs": [],
   "source": []
  }
 ],
 "metadata": {
  "kernelspec": {
   "display_name": "Python 3 (ipykernel)",
   "language": "python",
   "name": "python3"
  },
  "language_info": {
   "codemirror_mode": {
    "name": "ipython",
    "version": 3
   },
   "file_extension": ".py",
   "mimetype": "text/x-python",
   "name": "python",
   "nbconvert_exporter": "python",
   "pygments_lexer": "ipython3",
   "version": "3.8.11"
  }
 },
 "nbformat": 4,
 "nbformat_minor": 4
}
